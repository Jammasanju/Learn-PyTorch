{
 "cells": [
  {
   "cell_type": "code",
   "execution_count": 1,
   "metadata": {},
   "outputs": [],
   "source": [
    "import torch\n",
    "import torch.nn as nn\n",
    "\n",
    "import spacy\n",
    "import numpy as np\n",
    "import pandas as pd\n",
    "\n",
    "import random\n",
    "import math\n",
    "import time\n",
    "\n",
    "from BERT_WordEmbeddingsPipeline import embeddingsPipeline\n",
    "from sklearn.model_selection import train_test_split\n",
    "\n",
    "import warnings\n",
    "warnings.filterwarnings(\"ignore\") \n",
    "\n",
    "SEED = 25\n",
    "\n",
    "random.seed(SEED)\n",
    "np.random.seed(SEED)\n",
    "torch.manual_seed(SEED)\n",
    "torch.cuda.manual_seed(SEED)\n",
    "torch.backends.cudnn.deterministic = True"
   ]
  },
  {
   "cell_type": "code",
   "execution_count": 2,
   "metadata": {},
   "outputs": [],
   "source": [
    "data = pd.read_csv('hpl.csv')\n",
    "data = data[:100]\n",
    "\n",
    "embedding_length = 768\n",
    "max_words = 100\n",
    "\n",
    "zero_embedding = [0 for i in range(embedding_length)]\n",
    "\n",
    "emb = []\n",
    "for i in data['tokenized_sents']:\n",
    "    e = embeddingsPipeline(i)\n",
    "    while(len(e) < max_words):\n",
    "        e.append(zero_embedding)\n",
    "    e = e[:max_words]\n",
    "    emb.append(e)\n",
    "data['embeddings'] = emb"
   ]
  },
  {
   "cell_type": "code",
   "execution_count": 3,
   "metadata": {},
   "outputs": [],
   "source": [
    "INPUT_SIZE = embedding_length\n",
    "HIDDEN_SIZE = 512\n",
    "NUM_LAYERS = 2\n",
    "OUTPUT_SIZE = embedding_length\n",
    "BATCH_SIZE = 32"
   ]
  },
  {
   "cell_type": "code",
   "execution_count": 4,
   "metadata": {},
   "outputs": [],
   "source": [
    "emb = torch.Tensor(data['embeddings'])\n",
    "dataSet = torch.utils.data.TensorDataset(emb)\n",
    "dataLoader = torch.utils.data.DataLoader(dataSet, batch_size=BATCH_SIZE, drop_last=True)"
   ]
  },
  {
   "cell_type": "code",
   "execution_count": 5,
   "metadata": {},
   "outputs": [],
   "source": [
    "from Encoder import Encoder\n",
    "from Decoder import Decoder\n",
    "from Generator import Generator\n",
    "from Discriminator import Discriminator"
   ]
  },
  {
   "cell_type": "code",
   "execution_count": 33,
   "metadata": {},
   "outputs": [
    {
     "name": "stdout",
     "output_type": "stream",
     "text": [
      "Generator(\n",
      "  (encoder): Encoder(\n",
      "    (dropout): Dropout(p=0.2, inplace=False)\n",
      "    (lstm): LSTM(768, 512, num_layers=2, batch_first=True, bidirectional=True)\n",
      "    (lrelu): LeakyReLU(negative_slope=0.01)\n",
      "  )\n",
      "  (decoder): Decoder(\n",
      "    (lstm): LSTM(1024, 768, num_layers=2, batch_first=True, bidirectional=True)\n",
      "    (fc1): Linear(in_features=1536, out_features=768, bias=True)\n",
      "  )\n",
      ")\n",
      "Discriminator(\n",
      "  (lstm): LSTM(768, 1, num_layers=2, batch_first=True)\n",
      "  (fc1): Linear(in_features=3200, out_features=32, bias=True)\n",
      "  (sigmoid): Sigmoid()\n",
      ")\n"
     ]
    }
   ],
   "source": [
    "enc = Encoder(INPUT_SIZE, HIDDEN_SIZE, NUM_LAYERS)\n",
    "dec = Decoder(HIDDEN_SIZE, OUTPUT_SIZE, NUM_LAYERS)\n",
    "gen = Generator(enc, dec)\n",
    "print(gen)\n",
    "\n",
    "dis = Discriminator(INPUT_SIZE, NUM_LAYERS, max_words, BATCH_SIZE)\n",
    "print(dis)"
   ]
  },
  {
   "cell_type": "code",
   "execution_count": 34,
   "metadata": {},
   "outputs": [],
   "source": [
    "def train(dataLoader, gen, dis, num_epochs, max_words, batch_size, embedding_length):\n",
    "    device = torch.device('cuda' if torch.cuda.is_available() else 'cpu')\n",
    "    gen.to(device)\n",
    "    dis.to(device)\n",
    "    \n",
    "    dis.train()\n",
    "    gen.train()\n",
    "    \n",
    "    criterion = nn.BCELoss()\n",
    "    d_optimizer = torch.optim.Adam(dis.parameters(), lr=0.0002)\n",
    "    g_optimizer = torch.optim.Adadelta(gen.parameters(), lr=0.0004)\n",
    "    \n",
    "    for epoch in range(num_epochs):\n",
    "        start_time = time.time()\n",
    "\n",
    "        real_labels = torch.ones(1, batch_size).to(device)\n",
    "        fake_labels = torch.zeros(1, batch_size).to(device)\n",
    "        \n",
    "        #---------------------------------------------------#\n",
    "        # Training Discriminator\n",
    "        #---------------------------------------------------#\n",
    "        total_discriminator_loss = 0\n",
    "        iterator = iter(dataLoader)\n",
    "        \n",
    "        for i in range(len(dataLoader)):\n",
    "            batch_data = next(iterator) \n",
    "            # batch_data is a one-element list containing a single batch in the form of Tensor.\n",
    "            batch = batch_data[0]\n",
    "            \n",
    "            batch = batch.to(device)\n",
    "            dis_output = dis(batch)\n",
    "            d_loss_real = criterion(dis_output, real_labels)\n",
    "            \n",
    "            fake_batch = gen(batch)\n",
    "            dis_output = dis(fake_batch)\n",
    "            d_loss_fake = criterion(dis_output, fake_labels)\n",
    "            \n",
    "            d_loss = d_loss_real + d_loss_fake\n",
    "            total_discriminator_loss += d_loss.item()\n",
    "            \n",
    "            d_optimizer.zero_grad()\n",
    "            d_loss.backward()\n",
    "            d_optimizer.step()\n",
    "    \n",
    "        #---------------------------------------------------#\n",
    "        # Training Generator\n",
    "        #---------------------------------------------------#\n",
    "        total_generator_loss = 0\n",
    "        iterator = iter(dataLoader)\n",
    "        \n",
    "        for i in range(len(dataLoader)):\n",
    "            batch_data = next(iterator) \n",
    "            # batch_data is a one-element list containing a single batch in the form of Tensor.\n",
    "            batch = batch_data[0]\n",
    "            batch = batch.to(device)\n",
    "            \n",
    "            generated_batch = gen(batch)\n",
    "            dis_output = dis(generated_batch)\n",
    "            \n",
    "            g_loss = criterion(dis_output, real_labels)\n",
    "            total_generator_loss += g_loss.item()\n",
    "            \n",
    "            g_optimizer.zero_grad()\n",
    "            g_loss.backward()\n",
    "            g_optimizer.step()\n",
    "            \n",
    "        finish_time = time.time()\n",
    "        avg_d_loss = total_discriminator_loss/len(dataLoader)\n",
    "        avg_g_loss = total_generator_loss/len(dataLoader)\n",
    "        time_taken = finish_time-start_time\n",
    "        \n",
    "        print(\"Epoch[{:02}/{}]: average_d_Loss: {:.4f}, average_g_Loss: {:.4f}, Time for epoch: {:.4f}\" \n",
    "             .format(epoch+1, num_epochs, avg_d_loss, avg_g_loss, time_taken))"
   ]
  },
  {
   "cell_type": "code",
   "execution_count": 35,
   "metadata": {},
   "outputs": [
    {
     "name": "stdout",
     "output_type": "stream",
     "text": [
      "Epoch[01/10]: average_d_Loss: 1.3791, average_g_Loss: 0.7068, Time for epoch: 2.4984\n",
      "Epoch[02/10]: average_d_Loss: 1.3583, average_g_Loss: 0.7206, Time for epoch: 1.9787\n",
      "Epoch[03/10]: average_d_Loss: 1.3382, average_g_Loss: 0.7347, Time for epoch: 1.9398\n",
      "Epoch[04/10]: average_d_Loss: 1.3184, average_g_Loss: 0.7490, Time for epoch: 1.9667\n",
      "Epoch[05/10]: average_d_Loss: 1.2991, average_g_Loss: 0.7632, Time for epoch: 1.9688\n",
      "Epoch[06/10]: average_d_Loss: 1.2805, average_g_Loss: 0.7770, Time for epoch: 1.9618\n",
      "Epoch[07/10]: average_d_Loss: 1.2628, average_g_Loss: 0.7896, Time for epoch: 1.9648\n",
      "Epoch[08/10]: average_d_Loss: 1.2463, average_g_Loss: 0.8007, Time for epoch: 1.9787\n",
      "Epoch[09/10]: average_d_Loss: 1.2316, average_g_Loss: 0.8100, Time for epoch: 1.9747\n",
      "Epoch[10/10]: average_d_Loss: 1.2185, average_g_Loss: 0.8169, Time for epoch: 1.9718\n"
     ]
    }
   ],
   "source": [
    "train(dataLoader, gen, dis, 10, max_words, BATCH_SIZE, embedding_length)"
   ]
  },
  {
   "cell_type": "code",
   "execution_count": null,
   "metadata": {},
   "outputs": [],
   "source": []
  }
 ],
 "metadata": {
  "kernelspec": {
   "display_name": "Python 3",
   "language": "python",
   "name": "python3"
  },
  "language_info": {
   "codemirror_mode": {
    "name": "ipython",
    "version": 3
   },
   "file_extension": ".py",
   "mimetype": "text/x-python",
   "name": "python",
   "nbconvert_exporter": "python",
   "pygments_lexer": "ipython3",
   "version": "3.7.6"
  }
 },
 "nbformat": 4,
 "nbformat_minor": 4
}
