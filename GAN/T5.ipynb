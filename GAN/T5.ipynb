{
  "nbformat": 4,
  "nbformat_minor": 0,
  "metadata": {
    "kernelspec": {
      "display_name": "Python 3",
      "language": "python",
      "name": "python3"
    },
    "language_info": {
      "codemirror_mode": {
        "name": "ipython",
        "version": 3
      },
      "file_extension": ".py",
      "mimetype": "text/x-python",
      "name": "python",
      "nbconvert_exporter": "python",
      "pygments_lexer": "ipython3",
      "version": "3.7.6"
    },
    "colab": {
      "name": "T5.ipynb",
      "provenance": []
    },
    "accelerator": "GPU"
  },
  "cells": [
    {
      "cell_type": "code",
      "metadata": {
        "id": "B9_rablpYRmw",
        "colab_type": "code",
        "colab": {
          "base_uri": "https://localhost:8080/",
          "height": 121
        },
        "outputId": "654fe1eb-786c-431e-988b-86d1f5c5ea0b"
      },
      "source": [
        "from google.colab import drive\n",
        "drive.mount('/content/drive')"
      ],
      "execution_count": 1,
      "outputs": [
        {
          "output_type": "stream",
          "text": [
            "Go to this URL in a browser: https://accounts.google.com/o/oauth2/auth?client_id=947318989803-6bn6qk8qdgf4n4g3pfee6491hc0brc4i.apps.googleusercontent.com&redirect_uri=urn%3aietf%3awg%3aoauth%3a2.0%3aoob&response_type=code&scope=email%20https%3a%2f%2fwww.googleapis.com%2fauth%2fdocs.test%20https%3a%2f%2fwww.googleapis.com%2fauth%2fdrive%20https%3a%2f%2fwww.googleapis.com%2fauth%2fdrive.photos.readonly%20https%3a%2f%2fwww.googleapis.com%2fauth%2fpeopleapi.readonly\n",
            "\n",
            "Enter your authorization code:\n",
            "··········\n",
            "Mounted at /content/drive\n"
          ],
          "name": "stdout"
        }
      ]
    },
    {
      "cell_type": "code",
      "metadata": {
        "id": "YmleQ1BfYCiA",
        "colab_type": "code",
        "colab": {
          "base_uri": "https://localhost:8080/",
          "height": 34
        },
        "outputId": "e07f3e4b-1bad-45c2-9c20-906224e52ece"
      },
      "source": [
        "cd /content/drive/My Drive/testGAN"
      ],
      "execution_count": 2,
      "outputs": [
        {
          "output_type": "stream",
          "text": [
            "/content/drive/My Drive/testGAN\n"
          ],
          "name": "stdout"
        }
      ]
    },
    {
      "cell_type": "code",
      "metadata": {
        "id": "WHPmcFUEYp_p",
        "colab_type": "code",
        "colab": {
          "base_uri": "https://localhost:8080/",
          "height": 406
        },
        "outputId": "981663d5-8c46-4614-f9a9-b6121ee46ea1"
      },
      "source": [
        "! pip install pytorch_pretrained_bert"
      ],
      "execution_count": 3,
      "outputs": [
        {
          "output_type": "stream",
          "text": [
            "Collecting pytorch_pretrained_bert\n",
            "\u001b[?25l  Downloading https://files.pythonhosted.org/packages/d7/e0/c08d5553b89973d9a240605b9c12404bcf8227590de62bae27acbcfe076b/pytorch_pretrained_bert-0.6.2-py3-none-any.whl (123kB)\n",
            "\r\u001b[K     |██▋                             | 10kB 25.3MB/s eta 0:00:01\r\u001b[K     |█████▎                          | 20kB 31.1MB/s eta 0:00:01\r\u001b[K     |████████                        | 30kB 29.0MB/s eta 0:00:01\r\u001b[K     |██████████▋                     | 40kB 20.9MB/s eta 0:00:01\r\u001b[K     |█████████████▎                  | 51kB 14.7MB/s eta 0:00:01\r\u001b[K     |███████████████▉                | 61kB 13.7MB/s eta 0:00:01\r\u001b[K     |██████████████████▌             | 71kB 14.0MB/s eta 0:00:01\r\u001b[K     |█████████████████████▏          | 81kB 13.2MB/s eta 0:00:01\r\u001b[K     |███████████████████████▉        | 92kB 13.1MB/s eta 0:00:01\r\u001b[K     |██████████████████████████▌     | 102kB 13.3MB/s eta 0:00:01\r\u001b[K     |█████████████████████████████▏  | 112kB 13.3MB/s eta 0:00:01\r\u001b[K     |███████████████████████████████▊| 122kB 13.3MB/s eta 0:00:01\r\u001b[K     |████████████████████████████████| 133kB 13.3MB/s \n",
            "\u001b[?25hRequirement already satisfied: boto3 in /usr/local/lib/python3.6/dist-packages (from pytorch_pretrained_bert) (1.13.13)\n",
            "Requirement already satisfied: tqdm in /usr/local/lib/python3.6/dist-packages (from pytorch_pretrained_bert) (4.41.1)\n",
            "Requirement already satisfied: numpy in /usr/local/lib/python3.6/dist-packages (from pytorch_pretrained_bert) (1.18.4)\n",
            "Requirement already satisfied: requests in /usr/local/lib/python3.6/dist-packages (from pytorch_pretrained_bert) (2.23.0)\n",
            "Requirement already satisfied: torch>=0.4.1 in /usr/local/lib/python3.6/dist-packages (from pytorch_pretrained_bert) (1.5.0+cu101)\n",
            "Requirement already satisfied: regex in /usr/local/lib/python3.6/dist-packages (from pytorch_pretrained_bert) (2019.12.20)\n",
            "Requirement already satisfied: botocore<1.17.0,>=1.16.13 in /usr/local/lib/python3.6/dist-packages (from boto3->pytorch_pretrained_bert) (1.16.13)\n",
            "Requirement already satisfied: s3transfer<0.4.0,>=0.3.0 in /usr/local/lib/python3.6/dist-packages (from boto3->pytorch_pretrained_bert) (0.3.3)\n",
            "Requirement already satisfied: jmespath<1.0.0,>=0.7.1 in /usr/local/lib/python3.6/dist-packages (from boto3->pytorch_pretrained_bert) (0.10.0)\n",
            "Requirement already satisfied: chardet<4,>=3.0.2 in /usr/local/lib/python3.6/dist-packages (from requests->pytorch_pretrained_bert) (3.0.4)\n",
            "Requirement already satisfied: idna<3,>=2.5 in /usr/local/lib/python3.6/dist-packages (from requests->pytorch_pretrained_bert) (2.9)\n",
            "Requirement already satisfied: urllib3!=1.25.0,!=1.25.1,<1.26,>=1.21.1 in /usr/local/lib/python3.6/dist-packages (from requests->pytorch_pretrained_bert) (1.24.3)\n",
            "Requirement already satisfied: certifi>=2017.4.17 in /usr/local/lib/python3.6/dist-packages (from requests->pytorch_pretrained_bert) (2020.4.5.1)\n",
            "Requirement already satisfied: future in /usr/local/lib/python3.6/dist-packages (from torch>=0.4.1->pytorch_pretrained_bert) (0.16.0)\n",
            "Requirement already satisfied: docutils<0.16,>=0.10 in /usr/local/lib/python3.6/dist-packages (from botocore<1.17.0,>=1.16.13->boto3->pytorch_pretrained_bert) (0.15.2)\n",
            "Requirement already satisfied: python-dateutil<3.0.0,>=2.1 in /usr/local/lib/python3.6/dist-packages (from botocore<1.17.0,>=1.16.13->boto3->pytorch_pretrained_bert) (2.8.1)\n",
            "Requirement already satisfied: six>=1.5 in /usr/local/lib/python3.6/dist-packages (from python-dateutil<3.0.0,>=2.1->botocore<1.17.0,>=1.16.13->boto3->pytorch_pretrained_bert) (1.12.0)\n",
            "Installing collected packages: pytorch-pretrained-bert\n",
            "Successfully installed pytorch-pretrained-bert-0.6.2\n"
          ],
          "name": "stdout"
        }
      ]
    },
    {
      "cell_type": "code",
      "metadata": {
        "id": "vJ-qw3hEX_SF",
        "colab_type": "code",
        "colab": {
          "base_uri": "https://localhost:8080/",
          "height": 50
        },
        "outputId": "f357583b-b31e-48c5-b08f-02a81fc2a3b4"
      },
      "source": [
        "import torch\n",
        "import torch.nn as nn\n",
        "\n",
        "import spacy\n",
        "import numpy as np\n",
        "import pandas as pd\n",
        "\n",
        "import random\n",
        "import math\n",
        "import time\n",
        "\n",
        "from BERT_WordEmbeddingsPipeline import embeddingsPipeline\n",
        "from sklearn.model_selection import train_test_split\n",
        "\n",
        "import warnings\n",
        "warnings.filterwarnings(\"ignore\") \n",
        "\n",
        "SEED = 25\n",
        "\n",
        "random.seed(SEED)\n",
        "np.random.seed(SEED)\n",
        "torch.manual_seed(SEED)\n",
        "torch.cuda.manual_seed(SEED)\n",
        "torch.backends.cudnn.deterministic = True\n",
        "torch.backends.cudnn.benchmark = False"
      ],
      "execution_count": 4,
      "outputs": [
        {
          "output_type": "stream",
          "text": [
            "100%|██████████| 231508/231508 [00:00<00:00, 259888.44B/s]\n",
            "100%|██████████| 407873900/407873900 [00:41<00:00, 9931739.76B/s]\n"
          ],
          "name": "stderr"
        }
      ]
    },
    {
      "cell_type": "code",
      "metadata": {
        "id": "Qq83FyZRX_SJ",
        "colab_type": "code",
        "colab": {}
      },
      "source": [
        "data = pd.read_csv('hpl.csv')\n",
        "data = data[:3500]\n",
        "\n",
        "embedding_length = 768\n",
        "max_words = 100\n",
        "\n",
        "zero_embedding = [0 for i in range(embedding_length)]\n",
        "\n",
        "emb = []\n",
        "for i in data['tokenized_sents']:\n",
        "    e = embeddingsPipeline(i)\n",
        "    while(len(e) < max_words):\n",
        "        e.append(zero_embedding)\n",
        "    e = e[:max_words]\n",
        "    emb.append(e)\n",
        "data['embeddings'] = emb\n",
        "\n",
        "train_data = data"
      ],
      "execution_count": 0,
      "outputs": []
    },
    {
      "cell_type": "code",
      "metadata": {
        "id": "s_337w08X_SL",
        "colab_type": "code",
        "colab": {}
      },
      "source": [
        "data = pd.read_csv('eap.csv')\n",
        "data = data[:100]\n",
        "\n",
        "embedding_length = 768\n",
        "max_words = 100\n",
        "\n",
        "zero_embedding = [0 for i in range(embedding_length)]\n",
        "\n",
        "emb = []\n",
        "for i in data['tokenized_sents']:\n",
        "    e = embeddingsPipeline(i)\n",
        "    while(len(e) < max_words):\n",
        "        e.append(zero_embedding)\n",
        "    e = e[:max_words]\n",
        "    emb.append(e)\n",
        "data['embeddings'] = emb\n",
        "\n",
        "test_data = data"
      ],
      "execution_count": 0,
      "outputs": []
    },
    {
      "cell_type": "code",
      "metadata": {
        "id": "qfrzapVLX_SN",
        "colab_type": "code",
        "colab": {
          "base_uri": "https://localhost:8080/",
          "height": 50
        },
        "outputId": "bbb57df7-c27d-47d7-bb66-90ca6b1f2936"
      },
      "source": [
        "print(train_data.shape)\n",
        "print(test_data.shape)"
      ],
      "execution_count": 7,
      "outputs": [
        {
          "output_type": "stream",
          "text": [
            "(3500, 2)\n",
            "(100, 2)\n"
          ],
          "name": "stdout"
        }
      ]
    },
    {
      "cell_type": "code",
      "metadata": {
        "id": "DbioTVgdX_SQ",
        "colab_type": "code",
        "colab": {}
      },
      "source": [
        "INPUT_SIZE = embedding_length\n",
        "HIDDEN_SIZE = 512\n",
        "NUM_LAYERS = 2\n",
        "OUTPUT_SIZE = embedding_length\n",
        "BATCH_SIZE = 32"
      ],
      "execution_count": 0,
      "outputs": []
    },
    {
      "cell_type": "code",
      "metadata": {
        "id": "2VUj0otpX_SS",
        "colab_type": "code",
        "colab": {}
      },
      "source": [
        "train_emb = torch.Tensor(train_data['embeddings'])\n",
        "train_dataSet = torch.utils.data.TensorDataset(train_emb)\n",
        "train_dataLoader = torch.utils.data.DataLoader(train_dataSet, batch_size=BATCH_SIZE, drop_last=True)"
      ],
      "execution_count": 0,
      "outputs": []
    },
    {
      "cell_type": "code",
      "metadata": {
        "id": "r2awB_eyX_SU",
        "colab_type": "code",
        "colab": {}
      },
      "source": [
        "test_emb = torch.Tensor(test_data['embeddings'])\n",
        "test_dataSet = torch.utils.data.TensorDataset(test_emb)\n",
        "test_dataLoader = torch.utils.data.DataLoader(test_dataSet, batch_size=BATCH_SIZE, drop_last=True)"
      ],
      "execution_count": 0,
      "outputs": []
    },
    {
      "cell_type": "code",
      "metadata": {
        "id": "szqxmFR2X_SW",
        "colab_type": "code",
        "colab": {}
      },
      "source": [
        "from Encoder import Encoder\n",
        "from Decoder import Decoder\n",
        "from noTeacherForcingGenerator import Generator\n",
        "from Discriminator import Discriminator"
      ],
      "execution_count": 0,
      "outputs": []
    },
    {
      "cell_type": "code",
      "metadata": {
        "id": "SeyK0USlX_SY",
        "colab_type": "code",
        "colab": {
          "base_uri": "https://localhost:8080/",
          "height": 302
        },
        "outputId": "748ac716-04af-4e91-ffe2-1257dc626d2c"
      },
      "source": [
        "enc = Encoder(INPUT_SIZE, HIDDEN_SIZE, NUM_LAYERS)\n",
        "dec = Decoder(HIDDEN_SIZE, OUTPUT_SIZE, NUM_LAYERS)\n",
        "# gen = Generator(enc, dec, max_words, HIDDEN_SIZE, embedding_length)\n",
        "gen = Generator(enc, dec)\n",
        "print(gen)\n",
        "\n",
        "dis = Discriminator(INPUT_SIZE, NUM_LAYERS, max_words)\n",
        "print(dis)"
      ],
      "execution_count": 12,
      "outputs": [
        {
          "output_type": "stream",
          "text": [
            "Generator(\n",
            "  (encoder): Encoder(\n",
            "    (dropout): Dropout(p=0.2, inplace=False)\n",
            "    (lstm): LSTM(768, 512, num_layers=2, batch_first=True, bidirectional=True)\n",
            "    (fc1): Linear(in_features=1024, out_features=512, bias=True)\n",
            "    (lrelu): LeakyReLU(negative_slope=0.01)\n",
            "  )\n",
            "  (decoder): Decoder(\n",
            "    (lstm): LSTM(512, 768, num_layers=2, batch_first=True, bidirectional=True)\n",
            "    (fc1): Linear(in_features=1536, out_features=768, bias=True)\n",
            "  )\n",
            ")\n",
            "Discriminator(\n",
            "  (lstm): LSTM(768, 1, num_layers=2, batch_first=True)\n",
            "  (fc1): Linear(in_features=100, out_features=1, bias=True)\n",
            "  (sigmoid): Sigmoid()\n",
            ")\n"
          ],
          "name": "stdout"
        }
      ]
    },
    {
      "cell_type": "code",
      "metadata": {
        "id": "Hyme5C7eX_Sa",
        "colab_type": "code",
        "colab": {}
      },
      "source": [
        "def train(dataLoader, test_dataLoader, gen, dis, num_epochs, max_words, batch_size, embedding_length):\n",
        "    device = torch.device('cuda' if torch.cuda.is_available() else 'cpu')\n",
        "    gen.to(device)\n",
        "    dis.to(device)\n",
        "    \n",
        "    criterion = nn.BCELoss()\n",
        "    d_optimizer = torch.optim.Adam(dis.parameters(), lr=0.0002)\n",
        "    g_optimizer = torch.optim.Adadelta(gen.parameters(), lr=0.0004)\n",
        "    \n",
        "    for epoch in range(num_epochs):\n",
        "        start_time = time.time()\n",
        "\n",
        "        dis.train()\n",
        "        gen.train()\n",
        "        \n",
        "        real_labels = torch.ones(1, batch_size).to(device)\n",
        "        fake_labels = torch.zeros(1, batch_size).to(device)\n",
        "        \n",
        "        #---------------------------------------------------#\n",
        "        # Training Discriminator\n",
        "        #---------------------------------------------------#\n",
        "        total_discriminator_loss = 0\n",
        "        iterator = iter(dataLoader)\n",
        "        \n",
        "        for i in range(len(dataLoader)):\n",
        "            batch_data = next(iterator) \n",
        "            # batch_data is a one-element list containing a single batch in the form of Tensor.\n",
        "            batch = batch_data[0]\n",
        "            \n",
        "            batch = batch.to(device)\n",
        "            \n",
        "            dis_output = torch.zeros(batch_size)\n",
        "            for i, embedding in enumerate(batch):\n",
        "                dis_output[i] = dis(embedding.view(1, max_words, embedding_length))\n",
        "            \n",
        "            dis_output = dis_output.to(device)\n",
        "            d_loss_real = criterion(dis_output, real_labels)\n",
        "            \n",
        "            fake_batch = gen(batch)\n",
        "            fake_batch = fake_batch.to(device)\n",
        "            \n",
        "            dis_output = torch.zeros(batch_size)\n",
        "            for i, embedding in enumerate(fake_batch):\n",
        "                dis_output[i] = dis(embedding.view(1, max_words, embedding_length))\n",
        "                \n",
        "            dis_output = dis_output.to(device)\n",
        "            d_loss_fake = criterion(dis_output, fake_labels)\n",
        "            \n",
        "            d_loss = d_loss_real + d_loss_fake\n",
        "            total_discriminator_loss += d_loss.item()\n",
        "            \n",
        "            d_optimizer.zero_grad()\n",
        "            d_loss.backward()\n",
        "            d_optimizer.step()\n",
        "    \n",
        "        #---------------------------------------------------#\n",
        "        # Training Generator\n",
        "        #---------------------------------------------------#\n",
        "        total_generator_loss = 0\n",
        "        iterator = iter(dataLoader)\n",
        "        \n",
        "        for i in range(len(dataLoader)):\n",
        "            batch_data = next(iterator) \n",
        "            # batch_data is a one-element list containing a single batch in the form of Tensor.\n",
        "            batch = batch_data[0]\n",
        "            batch = batch.to(device)\n",
        "            \n",
        "            generated_batch = gen(batch)\n",
        "            generated_batch = generated_batch.to(device)\n",
        "            \n",
        "            dis_output = torch.zeros(batch_size)\n",
        "            for i, embedding in enumerate(generated_batch):\n",
        "                dis_output[i] = dis(embedding.view(1, max_words, embedding_length))\n",
        "            \n",
        "            dis_output = dis_output.to(device)\n",
        "            g_loss = criterion(dis_output, real_labels)\n",
        "            total_generator_loss += g_loss.item()\n",
        "            \n",
        "            g_optimizer.zero_grad()\n",
        "            g_loss.backward()\n",
        "            g_optimizer.step()\n",
        "            \n",
        "        \n",
        "        #---------------------------------------------------#\n",
        "        # On Test data \n",
        "        #---------------------------------------------------#\n",
        "        dis.eval()\n",
        "        gen.eval()\n",
        "        \n",
        "        generator_loss_on_test = 0\n",
        "        discriminator_loss_on_test = 0\n",
        "        iterator = iter(test_dataLoader)\n",
        "        \n",
        "        for i in range(len(test_dataLoader)):\n",
        "            batch_data = next(iterator) \n",
        "            # batch_data is a one-element list containing a single batch in the form of Tensor.\n",
        "            batch = batch_data[0]\n",
        "            batch = batch.to(device)\n",
        "            \n",
        "            dis_output = torch.zeros(batch_size)\n",
        "            for i, embedding in enumerate(batch):\n",
        "                dis_output[i] = dis(embedding.view(1, max_words, embedding_length))\n",
        "            \n",
        "            dis_output = dis_output.to(device)\n",
        "            d_loss = criterion(dis_output, real_labels)\n",
        "            discriminator_loss_on_test += d_loss.item()\n",
        "\n",
        "            generated_batch = gen(batch)\n",
        "            generated_batch = generated_batch.to(device)\n",
        "            dis_output = torch.zeros(batch_size)\n",
        "            \n",
        "            for i, embedding in enumerate(generated_batch):\n",
        "                dis_output[i] = dis(embedding.view(1, max_words, embedding_length))\n",
        "            \n",
        "            dis_output = dis_output.to(device)\n",
        "            g_loss = criterion(dis_output, real_labels)\n",
        "            d_loss = criterion(dis_output, fake_labels)\n",
        "\n",
        "            discriminator_loss_on_test += d_loss.item()\n",
        "            generator_loss_on_test += g_loss.item()\n",
        "            \n",
        "        \n",
        "        finish_time = time.time()\n",
        "        avg_d_loss = total_discriminator_loss/len(dataLoader)\n",
        "        avg_g_loss = total_generator_loss/len(dataLoader)\n",
        "        d_loss_test = discriminator_loss_on_test/len(test_dataLoader)\n",
        "        g_loss_test = generator_loss_on_test/len(test_dataLoader)\n",
        "        time_taken = finish_time-start_time\n",
        "        \n",
        "        print(\"Epoch[{:02}/{}]: avg_d_Loss: {:.4f}, avg_g_Loss: {:.4f}, d_loss_test: {:.4f}, g_loss_test: {:.4f}, Time : {:.2f}\" \n",
        "             .format(epoch+1, num_epochs, avg_d_loss, avg_g_loss, d_loss_test, g_loss_test, time_taken))"
      ],
      "execution_count": 0,
      "outputs": []
    },
    {
      "cell_type": "code",
      "metadata": {
        "id": "U3-fl36uX_Sc",
        "colab_type": "code",
        "colab": {
          "base_uri": "https://localhost:8080/",
          "height": 185
        },
        "outputId": "8ca3c47c-766a-4fd7-9e79-6c78de746677"
      },
      "source": [
        "train(train_dataLoader, test_dataLoader, gen, dis, 10, max_words, BATCH_SIZE, embedding_length)"
      ],
      "execution_count": 14,
      "outputs": [
        {
          "output_type": "stream",
          "text": [
            "Epoch[01/10]: avg_d_Loss: 1.3741, avg_g_Loss: 0.7248, d_loss_test: 1.3586, g_loss_test: 0.7246, Time : 109.36\n",
            "Epoch[02/10]: avg_d_Loss: 1.3182, avg_g_Loss: 0.7800, d_loss_test: 1.2804, g_loss_test: 0.7786, Time : 111.97\n",
            "Epoch[03/10]: avg_d_Loss: 1.1840, avg_g_Loss: 0.8890, d_loss_test: 1.1338, g_loss_test: 0.8828, Time : 112.58\n",
            "Epoch[04/10]: avg_d_Loss: 0.9925, avg_g_Loss: 1.0314, d_loss_test: 0.9765, g_loss_test: 1.0122, Time : 113.17\n",
            "Epoch[05/10]: avg_d_Loss: 0.8112, avg_g_Loss: 1.1693, d_loss_test: 0.8450, g_loss_test: 1.1367, Time : 115.79\n",
            "Epoch[06/10]: avg_d_Loss: 0.6723, avg_g_Loss: 1.2962, d_loss_test: 0.7375, g_loss_test: 1.2699, Time : 115.09\n",
            "Epoch[07/10]: avg_d_Loss: 0.5620, avg_g_Loss: 1.4378, d_loss_test: 0.6421, g_loss_test: 1.4237, Time : 114.09\n",
            "Epoch[08/10]: avg_d_Loss: 0.4677, avg_g_Loss: 1.6035, d_loss_test: 0.5548, g_loss_test: 1.5964, Time : 114.30\n",
            "Epoch[09/10]: avg_d_Loss: 0.3874, avg_g_Loss: 1.7840, d_loss_test: 0.4800, g_loss_test: 1.7803, Time : 114.02\n",
            "Epoch[10/10]: avg_d_Loss: 0.3212, avg_g_Loss: 1.9692, d_loss_test: 0.4160, g_loss_test: 1.9672, Time : 113.75\n"
          ],
          "name": "stdout"
        }
      ]
    },
    {
      "cell_type": "code",
      "metadata": {
        "id": "DAtyzIMLX_Se",
        "colab_type": "code",
        "colab": {}
      },
      "source": [
        "def additional_generator_training(dataLoader, test_dataLoader, gen, dis, num_epochs, max_words, batch_size, embedding_length):\n",
        "    device = torch.device('cuda' if torch.cuda.is_available() else 'cpu')\n",
        "    gen.to(device)\n",
        "    dis.to(device)\n",
        "    \n",
        "    criterion = nn.BCELoss()\n",
        "    g_optimizer = torch.optim.Adadelta(gen.parameters(), lr=0.0004)\n",
        "    \n",
        "    for epoch in range(num_epochs):\n",
        "        start_time = time.time()\n",
        "\n",
        "        dis.train()\n",
        "        gen.train()\n",
        "        \n",
        "        real_labels = torch.ones(1, batch_size).to(device)\n",
        "        fake_labels = torch.zeros(1, batch_size).to(device)\n",
        "        \n",
        "        #---------------------------------------------------#\n",
        "        # Loss from Discriminator on training data\n",
        "        #---------------------------------------------------#\n",
        "        total_discriminator_loss = 0\n",
        "        iterator = iter(dataLoader)\n",
        "        \n",
        "        for i in range(len(dataLoader)):\n",
        "            batch_data = next(iterator) \n",
        "            # batch_data is a one-element list containing a single batch in the form of Tensor.\n",
        "            batch = batch_data[0]\n",
        "            \n",
        "            batch = batch.to(device)\n",
        "            \n",
        "            dis_output = torch.zeros(batch_size)\n",
        "            for i, embedding in enumerate(batch):\n",
        "                dis_output[i] = dis(embedding.view(1, max_words, embedding_length))\n",
        "            \n",
        "            dis_output = dis_output.to(device)\n",
        "            d_loss_real = criterion(dis_output, real_labels)\n",
        "            \n",
        "            fake_batch = gen(batch)\n",
        "            fake_batch = fake_batch.to(device)\n",
        "            \n",
        "            dis_output = torch.zeros(batch_size)\n",
        "            for i, embedding in enumerate(fake_batch):\n",
        "                dis_output[i] = dis(embedding.view(1, max_words, embedding_length))\n",
        "                \n",
        "            dis_output = dis_output.to(device)\n",
        "            d_loss_fake = criterion(dis_output, fake_labels)\n",
        "            \n",
        "            d_loss = d_loss_real + d_loss_fake\n",
        "            total_discriminator_loss += d_loss.item()\n",
        "        \n",
        "        #---------------------------------------------------#\n",
        "        # Training Generator\n",
        "        #---------------------------------------------------#\n",
        "        total_generator_loss = 0\n",
        "        iterator = iter(dataLoader)\n",
        "        \n",
        "        for i in range(len(dataLoader)):\n",
        "            batch_data = next(iterator) \n",
        "            # batch_data is a one-element list containing a single batch in the form of Tensor.\n",
        "            batch = batch_data[0]\n",
        "            batch = batch.to(device)\n",
        "            \n",
        "            generated_batch = gen(batch)\n",
        "            generated_batch = generated_batch.to(device)\n",
        "            \n",
        "            dis_output = torch.zeros(batch_size)\n",
        "            for i, embedding in enumerate(generated_batch):\n",
        "                dis_output[i] = dis(embedding.view(1, max_words, embedding_length))\n",
        "            \n",
        "            dis_output = dis_output.to(device)\n",
        "            g_loss = criterion(dis_output, real_labels)\n",
        "            total_generator_loss += g_loss.item()\n",
        "            \n",
        "            g_optimizer.zero_grad()\n",
        "            g_loss.backward()\n",
        "            g_optimizer.step()\n",
        "            \n",
        "            \n",
        "        #---------------------------------------------------#\n",
        "        # On Test data \n",
        "        #---------------------------------------------------#\n",
        "        dis.eval()\n",
        "        gen.eval()\n",
        "        \n",
        "        generator_loss_on_test = 0\n",
        "        discriminator_loss_on_test = 0\n",
        "        iterator = iter(test_dataLoader)\n",
        "        \n",
        "        for i in range(len(test_dataLoader)):\n",
        "            batch_data = next(iterator) \n",
        "            # batch_data is a one-element list containing a single batch in the form of Tensor.\n",
        "            batch = batch_data[0]\n",
        "            batch = batch.to(device)\n",
        "            \n",
        "            dis_output = torch.zeros(batch_size)\n",
        "            for i, embedding in enumerate(batch):\n",
        "                dis_output[i] = dis(embedding.view(1, max_words, embedding_length))\n",
        "            \n",
        "            dis_output = dis_output.to(device)\n",
        "            d_loss_real = criterion(dis_output, real_labels)\n",
        "\n",
        "            generated_batch = gen(batch)\n",
        "            generated_batch = generated_batch.to(device)\n",
        "            \n",
        "            dis_output = torch.zeros(batch_size)\n",
        "            for i, embedding in enumerate(generated_batch):\n",
        "                dis_output[i] = dis(embedding.view(1, max_words, embedding_length))\n",
        "            \n",
        "            dis_output = dis_output.to(device)\n",
        "            d_loss_fake = criterion(dis_output, fake_labels)\n",
        "            \n",
        "            d_loss = d_loss_real + d_loss_fake\n",
        "            discriminator_loss_on_test += d_loss.item()\n",
        "            \n",
        "            generated_batch = gen(batch)\n",
        "            generated_batch = generated_batch.to(device)\n",
        "            dis_output = torch.zeros(batch_size)\n",
        "            \n",
        "            for i, embedding in enumerate(generated_batch):\n",
        "                dis_output[i] = dis(embedding.view(1, max_words, embedding_length))\n",
        "            \n",
        "            dis_output = dis_output.to(device)\n",
        "            g_loss = criterion(dis_output, real_labels)\n",
        "            generator_loss_on_test += g_loss.item()\n",
        "            \n",
        "            \n",
        "        finish_time = time.time()\n",
        "        avg_d_loss = total_discriminator_loss/len(dataLoader)\n",
        "        avg_g_loss = total_generator_loss/len(dataLoader)\n",
        "        d_loss_test = discriminator_loss_on_test/len(test_dataLoader)\n",
        "        g_loss_test = generator_loss_on_test/len(test_dataLoader)\n",
        "        time_taken = finish_time-start_time\n",
        "        \n",
        "        print(\"Epoch[{:02}/{:02}]: avg_d_Loss: {:.4f}, avg_g_Loss: {:.6f}, d_loss_test: {:.6f}, g_loss_test: {:.6f}, Time : {:.2f}\" \n",
        "             .format(epoch+1, num_epochs, avg_d_loss, avg_g_loss, d_loss_test, g_loss_test, time_taken))"
      ],
      "execution_count": 0,
      "outputs": []
    },
    {
      "cell_type": "code",
      "metadata": {
        "id": "7NLIBMcNX_Sf",
        "colab_type": "code",
        "colab": {
          "base_uri": "https://localhost:8080/",
          "height": 185
        },
        "outputId": "3d7656af-f9a5-4d48-e869-85156a51c3ad"
      },
      "source": [
        "additional_generator_training(train_dataLoader, test_dataLoader, gen, dis, 10, max_words, BATCH_SIZE, embedding_length)"
      ],
      "execution_count": 16,
      "outputs": [
        {
          "output_type": "stream",
          "text": [
            "Epoch[01/10]: avg_d_Loss: 0.2923, avg_g_Loss: 1.963665, d_loss_test: 0.416645, g_loss_test: 1.963344, Time : 79.21\n",
            "Epoch[02/10]: avg_d_Loss: 0.2929, avg_g_Loss: 1.960535, d_loss_test: 0.417112, g_loss_test: 1.960481, Time : 79.63\n",
            "Epoch[03/10]: avg_d_Loss: 0.2933, avg_g_Loss: 1.958062, d_loss_test: 0.417501, g_loss_test: 1.958107, Time : 79.08\n",
            "Epoch[04/10]: avg_d_Loss: 0.2937, avg_g_Loss: 1.955875, d_loss_test: 0.417871, g_loss_test: 1.955852, Time : 79.25\n",
            "Epoch[05/10]: avg_d_Loss: 0.2941, avg_g_Loss: 1.953642, d_loss_test: 0.418273, g_loss_test: 1.953412, Time : 79.40\n",
            "Epoch[06/10]: avg_d_Loss: 0.2945, avg_g_Loss: 1.951079, d_loss_test: 0.418763, g_loss_test: 1.950448, Time : 79.00\n",
            "Epoch[07/10]: avg_d_Loss: 0.2949, avg_g_Loss: 1.947733, d_loss_test: 0.419449, g_loss_test: 1.946319, Time : 79.45\n",
            "Epoch[08/10]: avg_d_Loss: 0.2956, avg_g_Loss: 1.942471, d_loss_test: 0.420671, g_loss_test: 1.939009, Time : 79.29\n",
            "Epoch[09/10]: avg_d_Loss: 0.2968, avg_g_Loss: 1.930747, d_loss_test: 0.424064, g_loss_test: 1.919058, Time : 79.30\n",
            "Epoch[10/10]: avg_d_Loss: 0.3002, avg_g_Loss: 1.868394, d_loss_test: 0.462654, g_loss_test: 1.720253, Time : 78.73\n"
          ],
          "name": "stdout"
        }
      ]
    },
    {
      "cell_type": "code",
      "metadata": {
        "id": "Gs6yaQeSX_Sh",
        "colab_type": "code",
        "colab": {}
      },
      "source": [
        ""
      ],
      "execution_count": 0,
      "outputs": []
    }
  ]
}